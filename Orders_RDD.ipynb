{
 "cells": [
  {
   "cell_type": "code",
   "execution_count": null,
   "id": "e0c09257",
   "metadata": {},
   "outputs": [],
   "source": [
    "from pyspark.sql import SparkSession\n",
    "import getpass\n",
    "username = getpass.getuser()\n",
    "spark = SparkSession. \\\n",
    "builder. \\\n",
    "config('spark.ui.port', '0'). \\\n",
    "config(\"spark.sql.warehouse.dir\", f\"/user/{username}/warehouse\"). \\\n",
    "enableHiveSupport(). \\\n",
    "master('yarn'). \\\n",
    "getOrCreate()"
   ]
  },
  {
   "cell_type": "code",
   "execution_count": 2,
   "id": "2b747c31",
   "metadata": {},
   "outputs": [
    {
     "data": {
      "text/html": [
       "\n",
       "            <div>\n",
       "                <p><b>SparkSession - hive</b></p>\n",
       "                \n",
       "        <div>\n",
       "            <p><b>SparkContext</b></p>\n",
       "\n",
       "            <p><a href=\"http://g02.itversity.com:34615\">Spark UI</a></p>\n",
       "\n",
       "            <dl>\n",
       "              <dt>Version</dt>\n",
       "                <dd><code>v3.1.2</code></dd>\n",
       "              <dt>Master</dt>\n",
       "                <dd><code>yarn</code></dd>\n",
       "              <dt>AppName</dt>\n",
       "                <dd><code>pyspark-shell</code></dd>\n",
       "            </dl>\n",
       "        </div>\n",
       "        \n",
       "            </div>\n",
       "        "
      ],
      "text/plain": [
       "<pyspark.sql.session.SparkSession at 0x7fe0c93f4630>"
      ]
     },
     "execution_count": 2,
     "metadata": {},
     "output_type": "execute_result"
    }
   ],
   "source": [
    "spark"
   ]
  },
  {
   "cell_type": "code",
   "execution_count": 3,
   "id": "44c43967",
   "metadata": {},
   "outputs": [
    {
     "data": {
      "text/plain": [
       "[('CLOSED', 7556),\n",
       " ('CANCELED', 1428),\n",
       " ('COMPLETE', 22899),\n",
       " ('PENDING_PAYMENT', 15030),\n",
       " ('SUSPECTED_FRAUD', 1558),\n",
       " ('PENDING', 7610),\n",
       " ('ON_HOLD', 3798),\n",
       " ('PROCESSING', 8275),\n",
       " ('PAYMENT_REVIEW', 729)]"
      ]
     },
     "execution_count": 3,
     "metadata": {},
     "output_type": "execute_result"
    }
   ],
   "source": [
    "#1. count the orders under each status\n",
    "base_order_rdd=spark.sparkContext.textFile(\"/public/trendytech/retail_db/orders/part-00000\")\n",
    "base_order_map=base_order_rdd.map(lambda line: (line.split(\",\")[3],1))\n",
    "base_order_reduce=base_order_map.reduceByKey( lambda a,b : a+b )\n",
    "base_order_reduce.take(10)"
   ]
  },
  {
   "cell_type": "code",
   "execution_count": 12,
   "id": "4fd50514",
   "metadata": {},
   "outputs": [
    {
     "data": {
      "text/plain": [
       "[('6316', 16),\n",
       " ('12431', 16),\n",
       " ('569', 16),\n",
       " ('5897', 16),\n",
       " ('5283', 15),\n",
       " ('12284', 15),\n",
       " ('5654', 15),\n",
       " ('221', 15),\n",
       " ('4320', 15),\n",
       " ('5624', 15)]"
      ]
     },
     "execution_count": 12,
     "metadata": {},
     "output_type": "execute_result"
    }
   ],
   "source": [
    "#2. find the premium customers (Top 10 who placed the most number of orders)\n",
    "premium_cust_rdd=base_order_rdd.map(lambda line : (line.split(\",\")[2],1 ))\n",
    "premium_cust_reduce=premium_cust_rdd.reduceByKey(lambda a,b : a+b)\n",
    "premium_top10_cust=premium_cust_reduce.sortBy(lambda a : a[1],False)\n",
    "premium_top10_cust.take(10)"
   ]
  },
  {
   "cell_type": "code",
   "execution_count": 20,
   "id": "fd12fe03",
   "metadata": {},
   "outputs": [
    {
     "data": {
      "text/plain": [
       "12405"
      ]
     },
     "execution_count": 20,
     "metadata": {},
     "output_type": "execute_result"
    }
   ],
   "source": [
    "# 3. distinct count of customers who placed atleast one order\n",
    "dist_map=base_order_rdd.map(lambda line : (line.split(\",\")[2],1)).distinct()\n",
    "dist_map.count()\n"
   ]
  },
  {
   "cell_type": "code",
   "execution_count": 38,
   "id": "103cfb62",
   "metadata": {},
   "outputs": [
    {
     "data": {
      "text/plain": [
       "[('1833', 6),\n",
       " ('5493', 5),\n",
       " ('1363', 5),\n",
       " ('1687', 5),\n",
       " ('2768', 4),\n",
       " ('5319', 4),\n",
       " ('437', 4),\n",
       " ('2774', 4),\n",
       " ('10111', 4),\n",
       " ('5582', 4)]"
      ]
     },
     "execution_count": 38,
     "metadata": {},
     "output_type": "execute_result"
    }
   ],
   "source": [
    "# 4. which customers has the maximum number of CLOSED orders\n",
    "# base_order_rdd.take(10)\n",
    "closed_rdd_filter= base_order_rdd.filter(lambda line : line.split(\",\")[3]=='CLOSED')\n",
    "closed_rdd_map=closed_rdd_filter.map(lambda line: (line.split(\",\")[2],1))\n",
    "closed_rdd_reduce=closed_rdd_map.reduceByKey(lambda a,b : a+b)\n",
    "closed_rdd_reduce.sortBy(lambda line :line[1],False).take(10)"
   ]
  }
 ],
 "metadata": {
  "kernelspec": {
   "display_name": "Pyspark 3",
   "language": "python",
   "name": "pyspark3"
  },
  "language_info": {
   "codemirror_mode": {
    "name": "ipython",
    "version": 3
   },
   "file_extension": ".py",
   "mimetype": "text/x-python",
   "name": "python",
   "nbconvert_exporter": "python",
   "pygments_lexer": "ipython3",
   "version": "3.6.12"
  }
 },
 "nbformat": 4,
 "nbformat_minor": 5
}
